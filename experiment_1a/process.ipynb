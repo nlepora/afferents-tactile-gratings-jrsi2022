{
 "cells": [
  {
   "cell_type": "markdown",
   "metadata": {},
   "source": [
    "# Experiment 1a - Process tactile image data\n",
    "* processed tactile data saved into two arrays:\n",
    "*        feature_SA and features_RA of shape (n_samples, n_pins, n_pins)\n",
    "* n_pins is number of pins along side of square array (here 19)\n",
    "* n_samples is here over time during a tapping contact\n",
    "* values of features are the SA and FA firing rates from module afferent_response.py\n",
    "* overall, the processing is iterated as a list over the data sets ('slow' and 'fast' contacts in this case)\n",
    "\n",
    "To run, first edit dir_data to path where data stored."
   ]
  },
  {
   "cell_type": "code",
   "execution_count": 14,
   "metadata": {},
   "outputs": [],
   "source": [
    "import os, sys, pickle, json\n",
    "import numpy as np\n",
    "\n",
    "sys.path.append(os.path.abspath('../common'))\n",
    "from afferent_response import AfferentResponse as ar\n",
    "\n",
    "def save_obj(obj, name ):\n",
    "    with open(name + '.pkl', 'wb') as f:\n",
    "        pickle.dump(obj, f, pickle.HIGHEST_PROTOCOL)\n",
    "\n",
    "def open_obj(name):\n",
    "    with open(name + '.pkl', 'rb') as f:\n",
    "        obj = pickle.load(f)\n",
    "    return obj"
   ]
  },
  {
   "cell_type": "code",
   "execution_count": 15,
   "metadata": {},
   "outputs": [],
   "source": [
    "dir_data = os.environ[\"DATAPATH\"] + \"/open/afferents-tactile-gratings-jrsi2022/experiment_1a\"\n",
    "\n",
    "sets = [\"slow\", \"fast\"]\n",
    "n_sets = len(sets)\n",
    "\n",
    "with open(\"../common/tip_params/tipA\", 'r') as read_file:\n",
    "    tip_params = json.load(read_file)"
   ]
  },
  {
   "cell_type": "code",
   "execution_count": 16,
   "metadata": {},
   "outputs": [],
   "source": [
    "def rotate_pins(pins, theta):\n",
    "    R = np.array(((np.cos(theta), -np.sin(theta)), (np.sin(theta), np.cos(theta))))\n",
    "    pins_rot = [np.matmul(R, pin) for pin in pins]\n",
    "    return np.array(pins_rot)\n",
    "\n",
    "def locate_pins(pins, n_pins):\n",
    "    locs = np.zeros((n_pins, n_pins))\n",
    "    index_xSort = np.argsort(pins[:,0], axis=0)\n",
    "    \n",
    "    index_ySort = np.zeros((n_pins, n_pins))\n",
    "    n = 0\n",
    "    for k in range(n_pins):\n",
    "        indices = np.zeros((n_pins,2))\n",
    "        for l in range(n_pins):\n",
    "            indices[l,:] = pins[index_xSort[n],:]\n",
    "            n+=1\n",
    "        index_ySort[k,:] = np.argsort(indices[:,1], axis=0)\n",
    "\n",
    "    for k in range(n_pins):\n",
    "        for l in range(n_pins):\n",
    "            locs[k,l] = index_xSort[int(index_ySort[k,l])+n_pins*k]\n",
    "    return locs\n",
    "\n",
    "def array_pins(pins, locs):\n",
    "    n1_pins, n2_pins = np.shape(locs)\n",
    "    pins_array = np.zeros((2, n1_pins, n2_pins))\n",
    "    for k in range(n1_pins):\n",
    "        for l in range(n2_pins):\n",
    "            pins_array[:,k,l] = pins[int(locs[k,l]),:]  \n",
    "    return pins_array\n",
    "\n",
    "def features(firing, locs):\n",
    "    n1_pins, n2_pins = np.shape(locs)\n",
    "    n_samples = np.shape(firing)[0]\n",
    "    features = np.zeros((n_samples, n1_pins, n2_pins))\n",
    "    for k in range(n1_pins):\n",
    "        for l in range(n2_pins):\n",
    "            features[:,k,l] = firing[:, int(locs[k,l])]     \n",
    "    return features"
   ]
  },
  {
   "cell_type": "code",
   "execution_count": 17,
   "metadata": {},
   "outputs": [],
   "source": [
    "afferents = ar(False, **tip_params)\n",
    "pins_init = afferents.init_pins(dir_data + rf\"/{sets[0]}/throw_away.mp4\")\n",
    "print(f\"n_pins={len(pins_init)}\")\n",
    "\n",
    "firing_SA = []; firing_RA = []; pins = []\n",
    "for i in range(n_sets):\n",
    "    firing = afferents.firing(dir_data + rf\"/{sets[i]}/x_0.mp4\", pins_init)\n",
    "\n",
    "    firing_SA.append(np.stack([firing[0][f'{k}'] for k in range(len(firing[0]))]))\n",
    "    firing_RA.append(np.stack([firing[1][f'{k}'] for k in range(len(firing[1]))]))\n",
    "    pins.append(firing[2])"
   ]
  },
  {
   "cell_type": "code",
   "execution_count": 18,
   "metadata": {},
   "outputs": [],
   "source": [
    "theta = np.radians(-6.2)\n",
    "n_pins = 19\n",
    "\n",
    "pins_rot = [rotate_pins(pins[i], theta) for i in range(n_sets)]\n",
    "locs_rot = [locate_pins(pins_rot[i], n_pins) for i in range(n_sets)]\n",
    "pins_array = [array_pins(pins_rot[i], locs_rot[i]) for i in range(n_sets)]\n",
    "\n",
    "save_obj(pins_array, dir_data + r\"/pins\")\n",
    "\n",
    "features_SA = [features(firing_SA[i], locs_rot[i]) for i in range(n_sets)]\n",
    "features_RA = [features(firing_RA[i], locs_rot[i]) for i in range(n_sets)]\n",
    "\n",
    "save_obj(features_SA, dir_data + r\"/features_SA\")\n",
    "save_obj(features_RA, dir_data + r\"/features_RA\")"
   ]
  }
 ],
 "metadata": {
  "interpreter": {
   "hash": "ec9934d05f2433ac775bd4943a80c56f88370a8daa9f676a715cc5a3d6479729"
  },
  "kernelspec": {
   "display_name": "Python 3.7.10 64-bit ('tactip': conda)",
   "name": "python3"
  },
  "language_info": {
   "codemirror_mode": {
    "name": "ipython",
    "version": 3
   },
   "file_extension": ".py",
   "mimetype": "text/x-python",
   "name": "python",
   "nbconvert_exporter": "python",
   "pygments_lexer": "ipython3",
   "version": "3.7.10"
  }
 },
 "nbformat": 4,
 "nbformat_minor": 4
}
